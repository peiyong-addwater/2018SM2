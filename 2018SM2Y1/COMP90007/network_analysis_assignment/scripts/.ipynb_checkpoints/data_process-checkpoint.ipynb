{
 "cells": [
  {
   "cell_type": "code",
   "execution_count": 1,
   "metadata": {},
   "outputs": [],
   "source": [
    "import matplotlib.pyplot as plt\n",
    "import seaborn as sns\n",
    "import pandas as pd "
   ]
  },
  {
   "cell_type": "markdown",
   "metadata": {},
   "source": [
    "## data sturcture:\n",
    "### {ip1:{iperf:{[bandwidth1,bandwidth2,bandwidth3]},ping:{[],[],[]},hopcount:{}}, ip2:{...}, ...}\n",
    "### bandwidth in Mbits/sec, ping in ms, hopcount is just hops \n",
    "### pings stored in lists, [min,avg,max,stddev]"
   ]
  },
  {
   "cell_type": "code",
   "execution_count": 2,
   "metadata": {},
   "outputs": [],
   "source": [
    "ip_list = [\"iperf.he.net\", \"bouygues.testdebit.info\", \"ping.online.net\", \"st2.nn.ertelecom.ru\",\"iperf.biznetnetworks.com\", \"ping-90ms.online.net\", \"speedtest.serverius.net\", \"bouygues.iperf.fr\", \"iperf.volia.net\", \"iperf.it-north.net\"]\n",
    "ip_list_map ={}\n",
    "i = 1\n",
    "\n",
    "for c in ip_list:\n",
    "        ip_list_map[c] = i\n",
    "        i = i + 1\n",
    "del i"
   ]
  },
  {
   "cell_type": "markdown",
   "metadata": {},
   "source": [
    "Raw data from pings, iperftest and hopcount"
   ]
  },
  {
   "cell_type": "code",
   "execution_count": 3,
   "metadata": {},
   "outputs": [],
   "source": [
    "raw_data = {1:{\"iperf\":[45.0,44.9,45.0], \"ping\": [[162.477, 163.066, 164.527,0.533],[162.747, 163.405, 166.694, 1.119],[162.451, 163.184, 164.871, 0.668]],\"hop\":7},\n",
    "2:{\"iperf\":[20.6, 20.4, 20.8], \"ping\":[[302.396,303.019,304.737,0.668],[302.236,302.698,303.118,0.279],[302.278,302.725,303.191,0.323]], \"hop\":19  },\n",
    "3:{\"iperf\": [(13.5+13.3)/2, 18.9, 18.8], \"ping\":[[300.499,301.070,301.802, 0.398],[300.601,301.078,301.560,0.338],[300.716,301.336,303.475,0.783]],\"hop\":18},\n",
    "4:{\"iperf\":[17.5, 17.4, 17.5], \"ping\":[[357.149,357.404,357.717,0.160],[356.775,357.301,358.024,0.395],[356.692,357.411,358.041,0.353]], \"hop\":20 },\n",
    "5:{ \"iperf\":[31.0, 28.9,30.5], \"ping\":[[210.342,211.051,211.600,0.469],[210.165, 211.091, 211.548,0.392],[210.602,211.094,211.463,0.270]],\"hop\":10 },\n",
    "6:{ \"iperf\":[12.4,(12.1+12.9)/2, 12.8], \"ping\":[[389.245,389.797,390.506,0.442],[389.030,389.648,390.562,0.462],[389.195,389.612,390.063,0.257]], \"hop\":17 },\n",
    "7:{ \"iperf\":[19.0,19.2,19.1], \"ping\": [[300.749,301.159,301.376,0.217],[300.561,301.269,302.405,0.560],[300.648,301.111,301.493,0.302]], \"hop\":19 },\n",
    "8:{ \"iperf\":[20.5, 20.5, (9.74+9.31)/2], \"ping\":[[302.005,302.550,303.163,0.381],[302.250,309.420,366.028,18.877],[301.978,327.355,466.100,50.409]], \"hop\":19},\n",
    "9:{ \"iperf\":[18.5, 18.7, 18.7], \"ping\":[[336.623,337.166,337.592,0.322],[336.526,337.301,337.970,0.519],[337.140,345.545,419.313,24.590]], \"hop\":19},\n",
    "10:{ \"iperf\":[397*10**(-3), 718*10**(-3), 813*10**(-3)], \"ping\":[[394.153,394.727,395.242,0.397],[394.173,394.601,395.250,0.401],[394.241,396.619,411.930,5.130]],\"hop\":23 }}"
   ]
  },
  {
   "cell_type": "markdown",
   "metadata": {},
   "source": [
    "ip distance got from https://www.ip-adress.com/ip-address-distance"
   ]
  },
  {
   "cell_type": "code",
   "execution_count": 4,
   "metadata": {},
   "outputs": [],
   "source": [
    "ip_distance_to_home = {1:7983.11, 2:10444.19, 3:10418.95, 4:8743.70, 5: 3241.62, 6:10418.95, 7:10292.70, 8:10444.19, 9: 9193.66, 10:7585.02}#in miles"
   ]
  },
  {
   "cell_type": "code",
   "execution_count": 5,
   "metadata": {},
   "outputs": [
    {
     "name": "stdout",
     "output_type": "stream",
     "text": [
      "[7, 19, 18, 20, 10, 17, 19, 19, 19, 23]\n",
      "[7983.11, 10444.19, 10418.95, 8743.7, 3241.62, 10418.95, 10292.7, 10444.19, 9193.66, 7585.02]\n"
     ]
    }
   ],
   "source": [
    "# Task 2.1, trying to find a relationship between the hop counts and the geo distance\n",
    "hop_count = []\n",
    "for c in ip_list:\n",
    "        hop_count.append(raw_data[ip_list_map[c]][\"hop\"])\n",
    "\n",
    "print(hop_count)\n",
    "\n",
    "distance = []\n",
    "for c in ip_list:\n",
    "        distance.append(ip_distance_to_home[ip_list_map[c]])\n",
    "\n",
    "print(distance)\n"
   ]
  },
  {
   "cell_type": "code",
   "execution_count": 13,
   "metadata": {},
   "outputs": [
    {
     "name": "stderr",
     "output_type": "stream",
     "text": [
      "/Users/wangpeiyong/anaconda3/lib/python3.6/site-packages/statsmodels/robust/robust_linear_model.py:284: RuntimeWarning: divide by zero encountered in true_divide\n",
      "  self.weights = self.M.weights(wls_results.resid/self.scale)\n",
      "/Users/wangpeiyong/anaconda3/lib/python3.6/site-packages/statsmodels/robust/robust_linear_model.py:284: RuntimeWarning: invalid value encountered in true_divide\n",
      "  self.weights = self.M.weights(wls_results.resid/self.scale)\n",
      "/Users/wangpeiyong/anaconda3/lib/python3.6/site-packages/statsmodels/robust/norms.py:190: RuntimeWarning: invalid value encountered in less_equal\n",
      "  return np.less_equal(np.fabs(z), self.t)\n",
      "/Users/wangpeiyong/anaconda3/lib/python3.6/site-packages/statsmodels/tools/tools.py:346: RuntimeWarning: invalid value encountered in reduce\n",
      "  cutoff = rcond * np.maximum.reduce(s)\n",
      "/Users/wangpeiyong/anaconda3/lib/python3.6/site-packages/numpy/core/_methods.py:26: RuntimeWarning: invalid value encountered in reduce\n",
      "  return umr_maximum(a, axis, None, out, keepdims)\n",
      "/Users/wangpeiyong/anaconda3/lib/python3.6/site-packages/numpy/linalg/linalg.py:1647: RuntimeWarning: invalid value encountered in greater\n",
      "  return count_nonzero(S > tol, axis=-1)\n",
      "/Users/wangpeiyong/anaconda3/lib/python3.6/site-packages/numpy/lib/function_base.py:4033: RuntimeWarning: Invalid value encountered in median\n",
      "  r = func(a, **kwargs)\n",
      "/Users/wangpeiyong/anaconda3/lib/python3.6/site-packages/statsmodels/robust/norms.py:267: RuntimeWarning: invalid value encountered in less_equal\n",
      "  return np.less_equal(np.fabs(z), self.t)\n",
      "/Users/wangpeiyong/anaconda3/lib/python3.6/site-packages/statsmodels/robust/robust_linear_model.py:432: RuntimeWarning: invalid value encountered in double_scalars\n",
      "  k = 1 + (self.df_model+1)/self.nobs * var_psiprime/m**2\n"
     ]
    },
    {
     "data": {
      "text/plain": [
       "Text(0,0.5,'distance_in_miles')"
      ]
     },
     "execution_count": 13,
     "metadata": {},
     "output_type": "execute_result"
    },
    {
     "data": {
      "image/png": "[encoded data removed]",
      "text/plain": [
       "<matplotlib.figure.Figure at 0x1a204608d0>"
      ]
     },
     "metadata": {},
     "output_type": "display_data"
    }
   ],
   "source": [
    "x_hop_y_dist = {}\n",
    "for i in length(hop_count):\n",
    "    x_hop_y_dist = \n"
   ]
  },
  {
   "cell_type": "code",
   "execution_count": null,
   "metadata": {},
   "outputs": [],
   "source": []
  }
 ],
 "metadata": {
  "kernelspec": {
   "display_name": "Python 3",
   "language": "python",
   "name": "python3"
  },
  "language_info": {
   "codemirror_mode": {
    "name": "ipython",
    "version": 3
   },
   "file_extension": ".py",
   "mimetype": "text/x-python",
   "name": "python",
   "nbconvert_exporter": "python",
   "pygments_lexer": "ipython3",
   "version": "3.6.6"
  }
 },
 "nbformat": 4,
 "nbformat_minor": 2
}
